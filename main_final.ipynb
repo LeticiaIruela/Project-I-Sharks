{
 "cells": [
  {
   "cell_type": "code",
   "execution_count": 2,
   "id": "6489eb58",
   "metadata": {},
   "outputs": [
    {
     "ename": "SyntaxError",
     "evalue": "invalid syntax (visualizations.py, line 4)",
     "output_type": "error",
     "traceback": [
      "Traceback \u001b[1;36m(most recent call last)\u001b[0m:\n",
      "\u001b[0m  File \u001b[0;32mc:\\Users\\DataLeticia\\miniconda3\\envs\\ironhack\\lib\\site-packages\\IPython\\core\\interactiveshell.py:3442\u001b[0m in \u001b[0;35mrun_code\u001b[0m\n    exec(code_obj, self.user_global_ns, self.user_ns)\u001b[0m\n",
      "\u001b[1;36m  Cell \u001b[1;32mIn[2], line 8\u001b[1;36m\n\u001b[1;33m    import src.visualizations as vs\u001b[1;36m\n",
      "\u001b[1;36m  File \u001b[1;32mc:\\Users\\Leticia Martinez\\Desktop\\IRONHACK\\Labs\\Project-I-Sharks\\src\\visualizations.py:4\u001b[1;36m\u001b[0m\n\u001b[1;33m    def graf_oceans:\u001b[0m\n\u001b[1;37m                   ^\u001b[0m\n\u001b[1;31mSyntaxError\u001b[0m\u001b[1;31m:\u001b[0m invalid syntax\n"
     ]
    }
   ],
   "source": [
    "import pandas as pd\n",
    "import numpy as np\n",
    "import seaborn as sns\n",
    "import matplotlib.pyplot as plt\n",
    "import os\n",
    "import src.downloading as dl\n",
    "import src.cleaning as cl\n",
    "import src.visualizations as vs\n",
    "\n"
   ]
  },
  {
   "cell_type": "code",
   "execution_count": 3,
   "id": "c72b499d",
   "metadata": {},
   "outputs": [],
   "source": [
    "df=dl.downloading('data/attacks.csv')"
   ]
  },
  {
   "cell_type": "code",
   "execution_count": 4,
   "id": "07abbd95",
   "metadata": {},
   "outputs": [],
   "source": [
    "df=cl.data_frame_cleaning(df)\n",
    "\n"
   ]
  },
  {
   "cell_type": "code",
   "execution_count": 5,
   "id": "eea4607f",
   "metadata": {},
   "outputs": [],
   "source": [
    "df=cl.years_cleaning(df)"
   ]
  },
  {
   "cell_type": "code",
   "execution_count": 6,
   "id": "b83a4581",
   "metadata": {},
   "outputs": [
    {
     "name": "stderr",
     "output_type": "stream",
     "text": [
      "c:\\Users\\Leticia Martinez\\Desktop\\IRONHACK\\Labs\\Project-I-Sharks\\src\\cleaning.py:26: SettingWithCopyWarning: \n",
      "A value is trying to be set on a copy of a slice from a DataFrame.\n",
      "Try using .loc[row_indexer,col_indexer] = value instead\n",
      "\n",
      "See the caveats in the documentation: https://pandas.pydata.org/pandas-docs/stable/user_guide/indexing.html#returning-a-view-versus-a-copy\n",
      "  df['Country'] = df['Country'].str.upper()\n",
      "c:\\Users\\Leticia Martinez\\Desktop\\IRONHACK\\Labs\\Project-I-Sharks\\src\\cleaning.py:84: SettingWithCopyWarning: \n",
      "A value is trying to be set on a copy of a slice from a DataFrame.\n",
      "Try using .loc[row_indexer,col_indexer] = value instead\n",
      "\n",
      "See the caveats in the documentation: https://pandas.pydata.org/pandas-docs/stable/user_guide/indexing.html#returning-a-view-versus-a-copy\n",
      "  df['Oceans'] = df['Oceans'].replace(ocean_dict)\n"
     ]
    }
   ],
   "source": [
    "df=cl.country_cleaning(df)"
   ]
  },
  {
   "cell_type": "code",
   "execution_count": null,
   "id": "37096568",
   "metadata": {},
   "outputs": [],
   "source": []
  }
 ],
 "metadata": {
  "kernelspec": {
   "display_name": "ironhack",
   "language": "python",
   "name": "ironhack"
  },
  "language_info": {
   "codemirror_mode": {
    "name": "ipython",
    "version": 3
   },
   "file_extension": ".py",
   "mimetype": "text/x-python",
   "name": "python",
   "nbconvert_exporter": "python",
   "pygments_lexer": "ipython3",
   "version": "3.10.9"
  }
 },
 "nbformat": 4,
 "nbformat_minor": 5
}
